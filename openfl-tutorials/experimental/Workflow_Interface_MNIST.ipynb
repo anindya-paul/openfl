{
 "cells": [
  {
   "cell_type": "code",
   "execution_count": 4,
   "id": "precise-studio",
   "metadata": {},
   "outputs": [],
   "source": [
    "from copy import deepcopy\n",
    "import torch.nn as nn\n",
    "import torch.nn.functional as F\n",
    "import torch.optim as optim\n",
    "import torch\n",
    "import torchvision\n",
    "import numpy as np\n",
    "from openfl.experimental.interface import FLSpec, Aggregator, Collaborator\n",
    "from openfl.experimental.runtime import LocalRuntime\n",
    "from openfl.experimental.placement import aggregator, collaborator\n",
    "\n",
    "n_epochs = 3\n",
    "batch_size_train = 64\n",
    "batch_size_test = 1000\n",
    "learning_rate = 0.01\n",
    "momentum = 0.5\n",
    "log_interval = 10\n",
    "\n",
    "random_seed = 1\n",
    "torch.backends.cudnn.enabled = False\n",
    "torch.manual_seed(random_seed)\n",
    "\n",
    "mnist_train = torchvision.datasets.MNIST('files/', train=True, download=True,\n",
    "                             transform=torchvision.transforms.Compose([\n",
    "                               torchvision.transforms.ToTensor(),\n",
    "                               torchvision.transforms.Normalize(\n",
    "                                 (0.1307,), (0.3081,))\n",
    "                             ]))\n",
    "\n",
    "mnist_test = torchvision.datasets.MNIST('files/', train=False, download=True,\n",
    "                             transform=torchvision.transforms.Compose([\n",
    "                               torchvision.transforms.ToTensor(),\n",
    "                               torchvision.transforms.Normalize(\n",
    "                                 (0.1307,), (0.3081,))\n",
    "                             ]))\n",
    "\n",
    "class Net(nn.Module):\n",
    "    def __init__(self):\n",
    "        super(Net, self).__init__()\n",
    "        self.conv1 = nn.Conv2d(1, 10, kernel_size=5)\n",
    "        self.conv2 = nn.Conv2d(10, 20, kernel_size=5)\n",
    "        self.conv2_drop = nn.Dropout2d()\n",
    "        self.fc1 = nn.Linear(320, 50)\n",
    "        self.fc2 = nn.Linear(50, 10)\n",
    "\n",
    "    def forward(self, x):\n",
    "        x = F.relu(F.max_pool2d(self.conv1(x), 2))\n",
    "        x = F.relu(F.max_pool2d(self.conv2_drop(self.conv2(x)), 2))\n",
    "        x = x.view(-1, 320)\n",
    "        x = F.relu(self.fc1(x))\n",
    "        x = F.dropout(x, training=self.training)\n",
    "        x = self.fc2(x)\n",
    "        return F.log_softmax(x)\n",
    "\n",
    "def FedAvg(models):\n",
    "    new_model = models[0]\n",
    "    state_dicts = [model.state_dict() for model in models]\n",
    "    state_dict = new_model.state_dict()\n",
    "    for key in models[1].state_dict():\n",
    "        state_dict[key] = np.sum([state[key] for state in state_dicts],axis=0) / len(models)\n",
    "    new_model.load_state_dict(state_dict)\n",
    "    return new_model\n",
    "\n",
    "def inference(network,test_loader):\n",
    "    network.eval()\n",
    "    test_loss = 0\n",
    "    correct = 0\n",
    "    with torch.no_grad():\n",
    "      for data, target in test_loader:\n",
    "        output = network(data)\n",
    "        test_loss += F.nll_loss(output, target, size_average=False).item()\n",
    "        pred = output.data.max(1, keepdim=True)[1]\n",
    "        correct += pred.eq(target.data.view_as(pred)).sum()\n",
    "    test_loss /= len(test_loader.dataset)\n",
    "    print('\\nTest set: Avg. loss: {:.4f}, Accuracy: {}/{} ({:.0f}%)\\n'.format(\n",
    "      test_loss, correct, len(test_loader.dataset),\n",
    "      100. * correct / len(test_loader.dataset)))\n",
    "    accuracy = float(correct / len(test_loader.dataset))\n",
    "    return accuracy"
   ]
  },
  {
   "cell_type": "code",
   "execution_count": 5,
   "id": "difficult-madrid",
   "metadata": {},
   "outputs": [
    {
     "name": "stdout",
     "output_type": "stream",
     "text": [
      "Aggregator step \"start\" registered\n",
      "Collaborator step \"aggregated_model_validation\" registered\n",
      "Collaborator step \"train\" registered\n",
      "Collaborator step \"local_model_validation\" registered\n",
      "Aggregator step \"join\" registered\n",
      "Aggregator step \"end\" registered\n"
     ]
    }
   ],
   "source": [
    "class FederatedFlow(FLSpec):\n",
    "\n",
    "    def __init__(self, model = None, optimizer = None, **kwargs):\n",
    "        super().__init__(**kwargs)\n",
    "        if model is not None:\n",
    "            self.model = model\n",
    "            self.optimizer = optimizer\n",
    "        else:\n",
    "            self.model = Net()\n",
    "            self.optimizer = optim.SGD(self.model.parameters(), lr=learning_rate,\n",
    "                                   momentum=momentum)\n",
    "\n",
    "    @aggregator\n",
    "    def start(self):\n",
    "        print(f'Performing initialization for model')\n",
    "        self.collaborators = self.runtime.collaborators\n",
    "        self.private = 10\n",
    "        self.next(self.aggregated_model_validation,foreach='collaborators',exclude=['private'])\n",
    "\n",
    "    @collaborator\n",
    "    def aggregated_model_validation(self):\n",
    "        print(f'Performing aggregated model validation for collaborator {self.input}')\n",
    "        self.agg_validation_score = inference(self.model,self.test_loader)\n",
    "        print(f'{self.input} value of {self.agg_validation_score}')\n",
    "        self.next(self.train)\n",
    "\n",
    "    @collaborator\n",
    "    def train(self):\n",
    "        self.model.train()\n",
    "        self.optimizer = optim.SGD(self.model.parameters(), lr=learning_rate,\n",
    "                                   momentum=momentum)\n",
    "        train_losses = []\n",
    "        for batch_idx, (data, target) in enumerate(self.train_loader):\n",
    "          self.optimizer.zero_grad()\n",
    "          output = self.model(data)\n",
    "          loss = F.nll_loss(output, target)\n",
    "          loss.backward()\n",
    "          self.optimizer.step()\n",
    "          if batch_idx % log_interval == 0:\n",
    "            print('Train Epoch: 1 [{}/{} ({:.0f}%)]\\tLoss: {:.6f}'.format(\n",
    "               batch_idx * len(data), len(self.train_loader.dataset),\n",
    "              100. * batch_idx / len(self.train_loader), loss.item()))\n",
    "            self.loss = loss.item()\n",
    "            torch.save(self.model.state_dict(), 'model.pth')\n",
    "            torch.save(self.optimizer.state_dict(), 'optimizer.pth')\n",
    "        self.training_completed = True\n",
    "        self.next(self.local_model_validation)\n",
    "\n",
    "    @collaborator\n",
    "    def local_model_validation(self):\n",
    "        self.local_validation_score = inference(self.model,self.test_loader)\n",
    "        print(f'Doing local model validation for collaborator {self.input}: {self.local_validation_score}')\n",
    "        self.next(self.join, exclude=['training_completed'])\n",
    "\n",
    "    @aggregator\n",
    "    def join(self,inputs):\n",
    "        self.average_loss = sum(input.loss for input in inputs)/len(inputs)\n",
    "        self.aggregated_model_accuracy = sum(input.agg_validation_score for input in inputs)/len(inputs)\n",
    "        self.local_model_accuracy = sum(input.local_validation_score for input in inputs)/len(inputs)\n",
    "        print(f'Average aggregated model validation values = {self.aggregated_model_accuracy}')\n",
    "        print(f'Average training loss = {self.average_loss}')\n",
    "        print(f'Average local model validation values = {self.local_model_accuracy}')\n",
    "        self.model = FedAvg([input.model for input in inputs])\n",
    "        self.optimizer = [input.optimizer for input in inputs][0]\n",
    "        self.next(self.end)\n",
    "        \n",
    "    @aggregator\n",
    "    def end(self):\n",
    "        print(f'This is the end of the flow')  "
   ]
  },
  {
   "cell_type": "code",
   "execution_count": 6,
   "id": "forward-world",
   "metadata": {},
   "outputs": [
    {
     "name": "stdout",
     "output_type": "stream",
     "text": [
      "Local runtime collaborators = {'Portland': <openfl.experimental.interface.participants.Collaborator object at 0x7f28d0e7ed00>, 'Seattle': <openfl.experimental.interface.participants.Collaborator object at 0x7f28d0e7eeb0>, 'Chandler': <openfl.experimental.interface.participants.Collaborator object at 0x7f28d0e7ef70>, 'Bangalore': <openfl.experimental.interface.participants.Collaborator object at 0x7f28d0e7e520>}\n",
      "Starting round 0...\n",
      "Created flow FederatedFlow\n",
      "\n",
      "Calling start\n",
      "Performing initialization for model\n",
      "Saving data artifacts for start\n",
      "Saved data artifacts for start\n",
      "No transition point detected!\n",
      "foreach_methods = []\n",
      "Sending state from aggregator to collaborators\n"
     ]
    },
    {
     "name": "stderr",
     "output_type": "stream",
     "text": [
      "\u001b[2m\u001b[36m(wrapper pid=1687134)\u001b[0m /tmp/ipykernel_1686978/1561403287.py:53: UserWarning: Implicit dimension choice for log_softmax has been deprecated. Change the call to include dim=X as an argument.\n",
      "\u001b[2m\u001b[36m(wrapper pid=1687134)\u001b[0m /home/pfoley1/anaconda3/envs/py3.8/lib/python3.8/site-packages/torch/nn/_reduction.py:42: UserWarning: size_average and reduce args will be deprecated, please use reduction='sum' instead.\n",
      "\u001b[2m\u001b[36m(wrapper pid=1687134)\u001b[0m   warnings.warn(warning.format(ret))\n"
     ]
    },
    {
     "name": "stdout",
     "output_type": "stream",
     "text": [
      "\u001b[2m\u001b[36m(wrapper pid=1687134)\u001b[0m \n",
      "\u001b[2m\u001b[36m(wrapper pid=1687134)\u001b[0m Running aggregated_model_validation in a new process\n",
      "\u001b[2m\u001b[36m(wrapper pid=1687134)\u001b[0m \n",
      "\u001b[2m\u001b[36m(wrapper pid=1687134)\u001b[0m Calling aggregated_model_validation\n",
      "\u001b[2m\u001b[36m(wrapper pid=1687134)\u001b[0m Performing aggregated model validation for collaborator Portland\n",
      "\u001b[2m\u001b[36m(wrapper pid=1687143)\u001b[0m \n",
      "\u001b[2m\u001b[36m(wrapper pid=1687143)\u001b[0m Running aggregated_model_validation in a new process\n",
      "\u001b[2m\u001b[36m(wrapper pid=1687143)\u001b[0m \n",
      "\u001b[2m\u001b[36m(wrapper pid=1687143)\u001b[0m Calling aggregated_model_validation\n",
      "\u001b[2m\u001b[36m(wrapper pid=1687143)\u001b[0m Performing aggregated model validation for collaborator Seattle\n",
      "\u001b[2m\u001b[36m(wrapper pid=1687134)\u001b[0m \n",
      "\u001b[2m\u001b[36m(wrapper pid=1687134)\u001b[0m Test set: Avg. loss: 2.3264, Accuracy: 309/2500 (12%)\n",
      "\u001b[2m\u001b[36m(wrapper pid=1687134)\u001b[0m \n",
      "\u001b[2m\u001b[36m(wrapper pid=1687134)\u001b[0m Portland value of 0.12359999865293503\n",
      "\u001b[2m\u001b[36m(wrapper pid=1687134)\u001b[0m Saving data artifacts for aggregated_model_validation\n"
     ]
    },
    {
     "name": "stderr",
     "output_type": "stream",
     "text": [
      "\u001b[2m\u001b[36m(wrapper pid=1687143)\u001b[0m /tmp/ipykernel_1686978/1561403287.py:53: UserWarning: Implicit dimension choice for log_softmax has been deprecated. Change the call to include dim=X as an argument.\n",
      "\u001b[2m\u001b[36m(wrapper pid=1687143)\u001b[0m /home/pfoley1/anaconda3/envs/py3.8/lib/python3.8/site-packages/torch/nn/_reduction.py:42: UserWarning: size_average and reduce args will be deprecated, please use reduction='sum' instead.\n",
      "\u001b[2m\u001b[36m(wrapper pid=1687143)\u001b[0m   warnings.warn(warning.format(ret))\n",
      "\u001b[2m\u001b[36m(wrapper pid=1687137)\u001b[0m /tmp/ipykernel_1686978/1561403287.py:53: UserWarning: Implicit dimension choice for log_softmax has been deprecated. Change the call to include dim=X as an argument.\n",
      "\u001b[2m\u001b[36m(wrapper pid=1687137)\u001b[0m /home/pfoley1/anaconda3/envs/py3.8/lib/python3.8/site-packages/torch/nn/_reduction.py:42: UserWarning: size_average and reduce args will be deprecated, please use reduction='sum' instead.\n",
      "\u001b[2m\u001b[36m(wrapper pid=1687137)\u001b[0m   warnings.warn(warning.format(ret))\n"
     ]
    },
    {
     "name": "stdout",
     "output_type": "stream",
     "text": [
      "\u001b[2m\u001b[36m(wrapper pid=1687137)\u001b[0m \n",
      "\u001b[2m\u001b[36m(wrapper pid=1687137)\u001b[0m Running aggregated_model_validation in a new process\n",
      "\u001b[2m\u001b[36m(wrapper pid=1687137)\u001b[0m \n",
      "\u001b[2m\u001b[36m(wrapper pid=1687137)\u001b[0m Calling aggregated_model_validation\n",
      "\u001b[2m\u001b[36m(wrapper pid=1687137)\u001b[0m Performing aggregated model validation for collaborator Chandler\n",
      "\u001b[2m\u001b[36m(wrapper pid=1687143)\u001b[0m \n",
      "\u001b[2m\u001b[36m(wrapper pid=1687143)\u001b[0m Test set: Avg. loss: 2.3319, Accuracy: 272/2500 (11%)\n",
      "\u001b[2m\u001b[36m(wrapper pid=1687143)\u001b[0m \n",
      "\u001b[2m\u001b[36m(wrapper pid=1687143)\u001b[0m Seattle value of 0.1088000014424324\n",
      "\u001b[2m\u001b[36m(wrapper pid=1687143)\u001b[0m Saving data artifacts for aggregated_model_validation\n",
      "\u001b[2m\u001b[36m(wrapper pid=1687135)\u001b[0m \n",
      "\u001b[2m\u001b[36m(wrapper pid=1687135)\u001b[0m Running aggregated_model_validation in a new process\n",
      "\u001b[2m\u001b[36m(wrapper pid=1687135)\u001b[0m \n",
      "\u001b[2m\u001b[36m(wrapper pid=1687135)\u001b[0m Calling aggregated_model_validation\n",
      "\u001b[2m\u001b[36m(wrapper pid=1687135)\u001b[0m Performing aggregated model validation for collaborator Bangalore\n"
     ]
    },
    {
     "name": "stderr",
     "output_type": "stream",
     "text": [
      "\u001b[2m\u001b[36m(wrapper pid=1687135)\u001b[0m /tmp/ipykernel_1686978/1561403287.py:53: UserWarning: Implicit dimension choice for log_softmax has been deprecated. Change the call to include dim=X as an argument.\n",
      "\u001b[2m\u001b[36m(wrapper pid=1687135)\u001b[0m /home/pfoley1/anaconda3/envs/py3.8/lib/python3.8/site-packages/torch/nn/_reduction.py:42: UserWarning: size_average and reduce args will be deprecated, please use reduction='sum' instead.\n",
      "\u001b[2m\u001b[36m(wrapper pid=1687135)\u001b[0m   warnings.warn(warning.format(ret))\n"
     ]
    },
    {
     "name": "stdout",
     "output_type": "stream",
     "text": [
      "\u001b[2m\u001b[36m(wrapper pid=1687137)\u001b[0m \n",
      "\u001b[2m\u001b[36m(wrapper pid=1687137)\u001b[0m Test set: Avg. loss: 2.3338, Accuracy: 284/2500 (11%)\n",
      "\u001b[2m\u001b[36m(wrapper pid=1687137)\u001b[0m \n",
      "\u001b[2m\u001b[36m(wrapper pid=1687137)\u001b[0m Chandler value of 0.1136000007390976\n",
      "\u001b[2m\u001b[36m(wrapper pid=1687137)\u001b[0m Saving data artifacts for aggregated_model_validation\n"
     ]
    },
    {
     "name": "stderr",
     "output_type": "stream",
     "text": [
      "\u001b[2m\u001b[36m(wrapper pid=1687134)\u001b[0m /tmp/ipykernel_1686978/1561403287.py:53: UserWarning: Implicit dimension choice for log_softmax has been deprecated. Change the call to include dim=X as an argument.\n"
     ]
    },
    {
     "name": "stdout",
     "output_type": "stream",
     "text": [
      "\u001b[2m\u001b[36m(wrapper pid=1687134)\u001b[0m Saved data artifacts for aggregated_model_validation\n",
      "\u001b[2m\u001b[36m(wrapper pid=1687134)\u001b[0m No transition point detected!\n",
      "\u001b[2m\u001b[36m(wrapper pid=1687134)\u001b[0m foreach_methods = ['aggregated_model_validation']\n",
      "\u001b[2m\u001b[36m(wrapper pid=1687134)\u001b[0m \n",
      "\u001b[2m\u001b[36m(wrapper pid=1687134)\u001b[0m Calling train\n",
      "\u001b[2m\u001b[36m(wrapper pid=1687134)\u001b[0m Train Epoch: 1 [0/15000 (0%)]\tLoss: 2.332804\n",
      "\u001b[2m\u001b[36m(wrapper pid=1687135)\u001b[0m \n",
      "\u001b[2m\u001b[36m(wrapper pid=1687135)\u001b[0m Test set: Avg. loss: 2.3345, Accuracy: 272/2500 (11%)\n",
      "\u001b[2m\u001b[36m(wrapper pid=1687135)\u001b[0m \n",
      "\u001b[2m\u001b[36m(wrapper pid=1687135)\u001b[0m Bangalore value of 0.1088000014424324\n",
      "\u001b[2m\u001b[36m(wrapper pid=1687134)\u001b[0m Train Epoch: 1 [640/15000 (4%)]\tLoss: 2.324922\n",
      "\u001b[2m\u001b[36m(wrapper pid=1687135)\u001b[0m Saving data artifacts for aggregated_model_validation\n",
      "\u001b[2m\u001b[36m(wrapper pid=1687143)\u001b[0m Saved data artifacts for aggregated_model_validation\n",
      "\u001b[2m\u001b[36m(wrapper pid=1687143)\u001b[0m No transition point detected!\n",
      "\u001b[2m\u001b[36m(wrapper pid=1687143)\u001b[0m foreach_methods = ['aggregated_model_validation']\n",
      "\u001b[2m\u001b[36m(wrapper pid=1687143)\u001b[0m \n",
      "\u001b[2m\u001b[36m(wrapper pid=1687143)\u001b[0m Calling train\n",
      "\u001b[2m\u001b[36m(wrapper pid=1687143)\u001b[0m Train Epoch: 1 [0/15000 (0%)]\tLoss: 2.385922\n",
      "\u001b[2m\u001b[36m(wrapper pid=1687134)\u001b[0m Train Epoch: 1 [1280/15000 (9%)]\tLoss: 2.300912\n"
     ]
    },
    {
     "name": "stderr",
     "output_type": "stream",
     "text": [
      "\u001b[2m\u001b[36m(wrapper pid=1687143)\u001b[0m /tmp/ipykernel_1686978/1561403287.py:53: UserWarning: Implicit dimension choice for log_softmax has been deprecated. Change the call to include dim=X as an argument.\n"
     ]
    },
    {
     "name": "stdout",
     "output_type": "stream",
     "text": [
      "\u001b[2m\u001b[36m(wrapper pid=1687134)\u001b[0m Train Epoch: 1 [1920/15000 (13%)]\tLoss: 2.260510\n",
      "\u001b[2m\u001b[36m(wrapper pid=1687143)\u001b[0m Train Epoch: 1 [640/15000 (4%)]\tLoss: 2.311543\n",
      "\u001b[2m\u001b[36m(wrapper pid=1687134)\u001b[0m Train Epoch: 1 [2560/15000 (17%)]\tLoss: 2.268296\n",
      "\u001b[2m\u001b[36m(wrapper pid=1687143)\u001b[0m Train Epoch: 1 [1280/15000 (9%)]\tLoss: 2.314261\n",
      "\u001b[2m\u001b[36m(wrapper pid=1687137)\u001b[0m Saved data artifacts for aggregated_model_validation\n",
      "\u001b[2m\u001b[36m(wrapper pid=1687137)\u001b[0m No transition point detected!\n",
      "\u001b[2m\u001b[36m(wrapper pid=1687137)\u001b[0m foreach_methods = ['aggregated_model_validation']\n",
      "\u001b[2m\u001b[36m(wrapper pid=1687137)\u001b[0m \n",
      "\u001b[2m\u001b[36m(wrapper pid=1687137)\u001b[0m Calling train\n",
      "\u001b[2m\u001b[36m(wrapper pid=1687137)\u001b[0m Train Epoch: 1 [0/15000 (0%)]\tLoss: 2.348601\n"
     ]
    },
    {
     "name": "stderr",
     "output_type": "stream",
     "text": [
      "\u001b[2m\u001b[36m(wrapper pid=1687137)\u001b[0m /tmp/ipykernel_1686978/1561403287.py:53: UserWarning: Implicit dimension choice for log_softmax has been deprecated. Change the call to include dim=X as an argument.\n"
     ]
    },
    {
     "name": "stdout",
     "output_type": "stream",
     "text": [
      "\u001b[2m\u001b[36m(wrapper pid=1687134)\u001b[0m Train Epoch: 1 [3200/15000 (21%)]\tLoss: 2.222547\n",
      "\u001b[2m\u001b[36m(wrapper pid=1687143)\u001b[0m Train Epoch: 1 [1920/15000 (13%)]\tLoss: 2.292074\n",
      "\u001b[2m\u001b[36m(wrapper pid=1687137)\u001b[0m Train Epoch: 1 [640/15000 (4%)]\tLoss: 2.311258\n"
     ]
    },
    {
     "name": "stderr",
     "output_type": "stream",
     "text": [
      "\u001b[2m\u001b[36m(wrapper pid=1687135)\u001b[0m /tmp/ipykernel_1686978/1561403287.py:53: UserWarning: Implicit dimension choice for log_softmax has been deprecated. Change the call to include dim=X as an argument.\n"
     ]
    },
    {
     "name": "stdout",
     "output_type": "stream",
     "text": [
      "\u001b[2m\u001b[36m(wrapper pid=1687135)\u001b[0m Saved data artifacts for aggregated_model_validation\n",
      "\u001b[2m\u001b[36m(wrapper pid=1687135)\u001b[0m No transition point detected!\n",
      "\u001b[2m\u001b[36m(wrapper pid=1687135)\u001b[0m foreach_methods = ['aggregated_model_validation']\n",
      "\u001b[2m\u001b[36m(wrapper pid=1687135)\u001b[0m \n",
      "\u001b[2m\u001b[36m(wrapper pid=1687135)\u001b[0m Calling train\n",
      "\u001b[2m\u001b[36m(wrapper pid=1687134)\u001b[0m Train Epoch: 1 [3840/15000 (26%)]\tLoss: 2.163612\n",
      "\u001b[2m\u001b[36m(wrapper pid=1687143)\u001b[0m Train Epoch: 1 [2560/15000 (17%)]\tLoss: 2.243010\n",
      "\u001b[2m\u001b[36m(wrapper pid=1687137)\u001b[0m Train Epoch: 1 [1280/15000 (9%)]\tLoss: 2.298709\n",
      "\u001b[2m\u001b[36m(wrapper pid=1687135)\u001b[0m Train Epoch: 1 [0/15000 (0%)]\tLoss: 2.333151\n",
      "\u001b[2m\u001b[36m(wrapper pid=1687143)\u001b[0m Train Epoch: 1 [3200/15000 (21%)]\tLoss: 2.176276\n",
      "\u001b[2m\u001b[36m(wrapper pid=1687134)\u001b[0m Train Epoch: 1 [4480/15000 (30%)]\tLoss: 2.182621\n",
      "\u001b[2m\u001b[36m(wrapper pid=1687137)\u001b[0m Train Epoch: 1 [1920/15000 (13%)]\tLoss: 2.295411\n",
      "\u001b[2m\u001b[36m(wrapper pid=1687135)\u001b[0m Train Epoch: 1 [640/15000 (4%)]\tLoss: 2.339468\n",
      "\u001b[2m\u001b[36m(wrapper pid=1687143)\u001b[0m Train Epoch: 1 [3840/15000 (26%)]\tLoss: 2.205578\n",
      "\u001b[2m\u001b[36m(wrapper pid=1687134)\u001b[0m Train Epoch: 1 [5120/15000 (34%)]\tLoss: 2.146961\n",
      "\u001b[2m\u001b[36m(wrapper pid=1687137)\u001b[0m Train Epoch: 1 [2560/15000 (17%)]\tLoss: 2.280321\n",
      "\u001b[2m\u001b[36m(wrapper pid=1687135)\u001b[0m Train Epoch: 1 [1280/15000 (9%)]\tLoss: 2.284421\n",
      "\u001b[2m\u001b[36m(wrapper pid=1687134)\u001b[0m Train Epoch: 1 [5760/15000 (38%)]\tLoss: 2.100976\n",
      "\u001b[2m\u001b[36m(wrapper pid=1687143)\u001b[0m Train Epoch: 1 [4480/15000 (30%)]\tLoss: 2.126793\n",
      "\u001b[2m\u001b[36m(wrapper pid=1687137)\u001b[0m Train Epoch: 1 [3200/15000 (21%)]\tLoss: 2.263289\n",
      "\u001b[2m\u001b[36m(wrapper pid=1687135)\u001b[0m Train Epoch: 1 [1920/15000 (13%)]\tLoss: 2.281091\n",
      "\u001b[2m\u001b[36m(wrapper pid=1687134)\u001b[0m Train Epoch: 1 [6400/15000 (43%)]\tLoss: 2.035227\n",
      "\u001b[2m\u001b[36m(wrapper pid=1687143)\u001b[0m Train Epoch: 1 [5120/15000 (34%)]\tLoss: 2.134749\n",
      "\u001b[2m\u001b[36m(wrapper pid=1687137)\u001b[0m Train Epoch: 1 [3840/15000 (26%)]\tLoss: 2.203551\n",
      "\u001b[2m\u001b[36m(wrapper pid=1687135)\u001b[0m Train Epoch: 1 [2560/15000 (17%)]\tLoss: 2.268567\n",
      "\u001b[2m\u001b[36m(wrapper pid=1687134)\u001b[0m Train Epoch: 1 [7040/15000 (47%)]\tLoss: 1.857418\n",
      "\u001b[2m\u001b[36m(wrapper pid=1687143)\u001b[0m Train Epoch: 1 [5760/15000 (38%)]\tLoss: 1.970243\n",
      "\u001b[2m\u001b[36m(wrapper pid=1687137)\u001b[0m Train Epoch: 1 [4480/15000 (30%)]\tLoss: 2.209133\n",
      "\u001b[2m\u001b[36m(wrapper pid=1687135)\u001b[0m Train Epoch: 1 [3200/15000 (21%)]\tLoss: 2.246841\n",
      "\u001b[2m\u001b[36m(wrapper pid=1687134)\u001b[0m Train Epoch: 1 [7680/15000 (51%)]\tLoss: 1.685747\n",
      "\u001b[2m\u001b[36m(wrapper pid=1687143)\u001b[0m Train Epoch: 1 [6400/15000 (43%)]\tLoss: 1.813801\n",
      "\u001b[2m\u001b[36m(wrapper pid=1687137)\u001b[0m Train Epoch: 1 [5120/15000 (34%)]\tLoss: 2.162449\n",
      "\u001b[2m\u001b[36m(wrapper pid=1687135)\u001b[0m Train Epoch: 1 [3840/15000 (26%)]\tLoss: 2.202866\n",
      "\u001b[2m\u001b[36m(wrapper pid=1687134)\u001b[0m Train Epoch: 1 [8320/15000 (55%)]\tLoss: 1.866527\n",
      "\u001b[2m\u001b[36m(wrapper pid=1687143)\u001b[0m Train Epoch: 1 [7040/15000 (47%)]\tLoss: 1.696072\n",
      "\u001b[2m\u001b[36m(wrapper pid=1687137)\u001b[0m Train Epoch: 1 [5760/15000 (38%)]\tLoss: 2.086959\n",
      "\u001b[2m\u001b[36m(wrapper pid=1687135)\u001b[0m Train Epoch: 1 [4480/15000 (30%)]\tLoss: 2.242939\n",
      "\u001b[2m\u001b[36m(wrapper pid=1687134)\u001b[0m Train Epoch: 1 [8960/15000 (60%)]\tLoss: 1.517248\n",
      "\u001b[2m\u001b[36m(wrapper pid=1687143)\u001b[0m Train Epoch: 1 [7680/15000 (51%)]\tLoss: 1.617647\n",
      "\u001b[2m\u001b[36m(wrapper pid=1687137)\u001b[0m Train Epoch: 1 [6400/15000 (43%)]\tLoss: 2.023290\n",
      "\u001b[2m\u001b[36m(wrapper pid=1687135)\u001b[0m Train Epoch: 1 [5120/15000 (34%)]\tLoss: 2.074024\n",
      "\u001b[2m\u001b[36m(wrapper pid=1687134)\u001b[0m Train Epoch: 1 [9600/15000 (64%)]\tLoss: 1.452929\n",
      "\u001b[2m\u001b[36m(wrapper pid=1687143)\u001b[0m Train Epoch: 1 [8320/15000 (55%)]\tLoss: 1.481515\n",
      "\u001b[2m\u001b[36m(wrapper pid=1687137)\u001b[0m Train Epoch: 1 [7040/15000 (47%)]\tLoss: 1.848698\n",
      "\u001b[2m\u001b[36m(wrapper pid=1687135)\u001b[0m Train Epoch: 1 [5760/15000 (38%)]\tLoss: 1.925578\n",
      "\u001b[2m\u001b[36m(wrapper pid=1687134)\u001b[0m Train Epoch: 1 [10240/15000 (68%)]\tLoss: 1.329030\n",
      "\u001b[2m\u001b[36m(wrapper pid=1687143)\u001b[0m Train Epoch: 1 [8960/15000 (60%)]\tLoss: 1.377183\n",
      "\u001b[2m\u001b[36m(wrapper pid=1687137)\u001b[0m Train Epoch: 1 [7680/15000 (51%)]\tLoss: 1.834287\n",
      "\u001b[2m\u001b[36m(wrapper pid=1687135)\u001b[0m Train Epoch: 1 [6400/15000 (43%)]\tLoss: 1.815051\n",
      "\u001b[2m\u001b[36m(wrapper pid=1687143)\u001b[0m Train Epoch: 1 [9600/15000 (64%)]\tLoss: 1.423299\n",
      "\u001b[2m\u001b[36m(wrapper pid=1687137)\u001b[0m Train Epoch: 1 [8320/15000 (55%)]\tLoss: 1.755630\n",
      "\u001b[2m\u001b[36m(wrapper pid=1687134)\u001b[0m Train Epoch: 1 [10880/15000 (72%)]\tLoss: 1.333258\n",
      "\u001b[2m\u001b[36m(wrapper pid=1687135)\u001b[0m Train Epoch: 1 [7040/15000 (47%)]\tLoss: 1.730048\n",
      "\u001b[2m\u001b[36m(wrapper pid=1687143)\u001b[0m Train Epoch: 1 [10240/15000 (68%)]\tLoss: 1.382437\n",
      "\u001b[2m\u001b[36m(wrapper pid=1687137)\u001b[0m Train Epoch: 1 [8960/15000 (60%)]\tLoss: 1.578756\n",
      "\u001b[2m\u001b[36m(wrapper pid=1687135)\u001b[0m Train Epoch: 1 [7680/15000 (51%)]\tLoss: 1.677447\n",
      "\u001b[2m\u001b[36m(wrapper pid=1687134)\u001b[0m Train Epoch: 1 [11520/15000 (77%)]\tLoss: 1.142582\n",
      "\u001b[2m\u001b[36m(wrapper pid=1687134)\u001b[0m Train Epoch: 1 [12160/15000 (81%)]\tLoss: 1.373948\n",
      "\u001b[2m\u001b[36m(wrapper pid=1687143)\u001b[0m Train Epoch: 1 [10880/15000 (72%)]\tLoss: 1.157984\n",
      "\u001b[2m\u001b[36m(wrapper pid=1687137)\u001b[0m Train Epoch: 1 [9600/15000 (64%)]\tLoss: 1.508746\n",
      "\u001b[2m\u001b[36m(wrapper pid=1687135)\u001b[0m Train Epoch: 1 [8320/15000 (55%)]\tLoss: 1.512924\n",
      "\u001b[2m\u001b[36m(wrapper pid=1687134)\u001b[0m Train Epoch: 1 [12800/15000 (85%)]\tLoss: 1.123707\n",
      "\u001b[2m\u001b[36m(wrapper pid=1687143)\u001b[0m Train Epoch: 1 [11520/15000 (77%)]\tLoss: 1.252231\n",
      "\u001b[2m\u001b[36m(wrapper pid=1687137)\u001b[0m Train Epoch: 1 [10240/15000 (68%)]\tLoss: 1.449527\n",
      "\u001b[2m\u001b[36m(wrapper pid=1687135)\u001b[0m Train Epoch: 1 [8960/15000 (60%)]\tLoss: 1.347628\n",
      "\u001b[2m\u001b[36m(wrapper pid=1687134)\u001b[0m Train Epoch: 1 [13440/15000 (89%)]\tLoss: 1.287258\n",
      "\u001b[2m\u001b[36m(wrapper pid=1687143)\u001b[0m Train Epoch: 1 [12160/15000 (81%)]\tLoss: 1.123541\n",
      "\u001b[2m\u001b[36m(wrapper pid=1687137)\u001b[0m Train Epoch: 1 [10880/15000 (72%)]\tLoss: 1.388994\n",
      "\u001b[2m\u001b[36m(wrapper pid=1687135)\u001b[0m Train Epoch: 1 [9600/15000 (64%)]\tLoss: 1.178070\n",
      "\u001b[2m\u001b[36m(wrapper pid=1687143)\u001b[0m Train Epoch: 1 [12800/15000 (85%)]\tLoss: 0.842794\n",
      "\u001b[2m\u001b[36m(wrapper pid=1687134)\u001b[0m Train Epoch: 1 [14080/15000 (94%)]\tLoss: 1.122350\n",
      "\u001b[2m\u001b[36m(wrapper pid=1687137)\u001b[0m Train Epoch: 1 [11520/15000 (77%)]\tLoss: 1.551200\n",
      "\u001b[2m\u001b[36m(wrapper pid=1687135)\u001b[0m Train Epoch: 1 [10240/15000 (68%)]\tLoss: 1.187065\n",
      "\u001b[2m\u001b[36m(wrapper pid=1687143)\u001b[0m Train Epoch: 1 [13440/15000 (89%)]\tLoss: 1.078896\n",
      "\u001b[2m\u001b[36m(wrapper pid=1687137)\u001b[0m Train Epoch: 1 [12160/15000 (81%)]\tLoss: 1.693757\n",
      "\u001b[2m\u001b[36m(wrapper pid=1687134)\u001b[0m Train Epoch: 1 [14720/15000 (98%)]\tLoss: 1.315791\n",
      "\u001b[2m\u001b[36m(wrapper pid=1687135)\u001b[0m Train Epoch: 1 [10880/15000 (72%)]\tLoss: 1.023913\n",
      "\u001b[2m\u001b[36m(wrapper pid=1687134)\u001b[0m Saving data artifacts for train\n",
      "\u001b[2m\u001b[36m(wrapper pid=1687143)\u001b[0m Train Epoch: 1 [14080/15000 (94%)]\tLoss: 0.976975\n",
      "\u001b[2m\u001b[36m(wrapper pid=1687137)\u001b[0m Train Epoch: 1 [12800/15000 (85%)]\tLoss: 1.429747\n",
      "\u001b[2m\u001b[36m(wrapper pid=1687135)\u001b[0m Train Epoch: 1 [11520/15000 (77%)]\tLoss: 1.247418\n",
      "\u001b[2m\u001b[36m(wrapper pid=1687134)\u001b[0m Saved data artifacts for train\n",
      "\u001b[2m\u001b[36m(wrapper pid=1687134)\u001b[0m No transition point detected!\n",
      "\u001b[2m\u001b[36m(wrapper pid=1687134)\u001b[0m foreach_methods = ['aggregated_model_validation']\n",
      "\u001b[2m\u001b[36m(wrapper pid=1687134)\u001b[0m \n",
      "\u001b[2m\u001b[36m(wrapper pid=1687134)\u001b[0m Calling local_model_validation\n"
     ]
    },
    {
     "name": "stderr",
     "output_type": "stream",
     "text": [
      "\u001b[2m\u001b[36m(wrapper pid=1687134)\u001b[0m /home/pfoley1/anaconda3/envs/py3.8/lib/python3.8/site-packages/torch/nn/_reduction.py:42: UserWarning: size_average and reduce args will be deprecated, please use reduction='sum' instead.\n",
      "\u001b[2m\u001b[36m(wrapper pid=1687134)\u001b[0m   warnings.warn(warning.format(ret))\n"
     ]
    },
    {
     "name": "stdout",
     "output_type": "stream",
     "text": [
      "\u001b[2m\u001b[36m(wrapper pid=1687143)\u001b[0m Train Epoch: 1 [14720/15000 (98%)]\tLoss: 0.884175\n",
      "\u001b[2m\u001b[36m(wrapper pid=1687137)\u001b[0m Train Epoch: 1 [13440/15000 (89%)]\tLoss: 1.226707\n",
      "\u001b[2m\u001b[36m(wrapper pid=1687143)\u001b[0m Saving data artifacts for train\n",
      "\u001b[2m\u001b[36m(wrapper pid=1687135)\u001b[0m Train Epoch: 1 [12160/15000 (81%)]\tLoss: 1.304899\n",
      "\u001b[2m\u001b[36m(wrapper pid=1687137)\u001b[0m Train Epoch: 1 [14080/15000 (94%)]\tLoss: 1.233540\n",
      "\u001b[2m\u001b[36m(wrapper pid=1687135)\u001b[0m Train Epoch: 1 [12800/15000 (85%)]\tLoss: 0.877259\n",
      "\u001b[2m\u001b[36m(wrapper pid=1687143)\u001b[0m Saved data artifacts for train\n",
      "\u001b[2m\u001b[36m(wrapper pid=1687143)\u001b[0m No transition point detected!\n",
      "\u001b[2m\u001b[36m(wrapper pid=1687143)\u001b[0m foreach_methods = ['aggregated_model_validation']\n",
      "\u001b[2m\u001b[36m(wrapper pid=1687143)\u001b[0m \n",
      "\u001b[2m\u001b[36m(wrapper pid=1687143)\u001b[0m Calling local_model_validation\n"
     ]
    },
    {
     "name": "stderr",
     "output_type": "stream",
     "text": [
      "\u001b[2m\u001b[36m(wrapper pid=1687143)\u001b[0m /home/pfoley1/anaconda3/envs/py3.8/lib/python3.8/site-packages/torch/nn/_reduction.py:42: UserWarning: size_average and reduce args will be deprecated, please use reduction='sum' instead.\n",
      "\u001b[2m\u001b[36m(wrapper pid=1687143)\u001b[0m   warnings.warn(warning.format(ret))\n"
     ]
    },
    {
     "name": "stdout",
     "output_type": "stream",
     "text": [
      "\u001b[2m\u001b[36m(wrapper pid=1687134)\u001b[0m \n",
      "\u001b[2m\u001b[36m(wrapper pid=1687134)\u001b[0m Test set: Avg. loss: 0.7068, Accuracy: 2050/2500 (82%)\n",
      "\u001b[2m\u001b[36m(wrapper pid=1687134)\u001b[0m \n",
      "\u001b[2m\u001b[36m(wrapper pid=1687134)\u001b[0m Doing local model validation for collaborator Portland: 0.8199999928474426\n",
      "\u001b[2m\u001b[36m(wrapper pid=1687134)\u001b[0m Saving data artifacts for local_model_validation\n",
      "\u001b[2m\u001b[36m(wrapper pid=1687137)\u001b[0m Train Epoch: 1 [14720/15000 (98%)]\tLoss: 1.227900\n",
      "\u001b[2m\u001b[36m(wrapper pid=1687135)\u001b[0m Train Epoch: 1 [13440/15000 (89%)]\tLoss: 1.048594\n",
      "\u001b[2m\u001b[36m(wrapper pid=1687137)\u001b[0m Saving data artifacts for train\n",
      "\u001b[2m\u001b[36m(wrapper pid=1687134)\u001b[0m Saved data artifacts for local_model_validation\n",
      "\u001b[2m\u001b[36m(wrapper pid=1687134)\u001b[0m No transition point detected!\n",
      "\u001b[2m\u001b[36m(wrapper pid=1687134)\u001b[0m foreach_methods = ['aggregated_model_validation']\n",
      "\u001b[2m\u001b[36m(wrapper pid=1687134)\u001b[0m Sending state from collaborator to aggregator\n",
      "\u001b[2m\u001b[36m(wrapper pid=1687134)\u001b[0m \n",
      "\u001b[2m\u001b[36m(wrapper pid=1687134)\u001b[0m Calling join\n",
      "\u001b[2m\u001b[36m(wrapper pid=1687135)\u001b[0m Train Epoch: 1 [14080/15000 (94%)]\tLoss: 1.216567\n"
     ]
    },
    {
     "ename": "RayTaskError(TypeError)",
     "evalue": "\u001b[36mray::wrapper()\u001b[39m (pid=1687134, ip=10.4.0.4)\n  File \"/home/pfoley1/anaconda3/envs/py3.8/lib/python3.8/site-packages/openfl/experimental/placement/placement.py\", line 18, in wrapper\n    f()\n  File \"/home/pfoley1/anaconda3/envs/py3.8/lib/python3.8/site-packages/openfl/experimental/placement/placement.py\", line 77, in wrapper\n    f(*args, **kwargs)\n  File \"/tmp/ipykernel_1686978/1826581246.py\", line 25, in aggregated_model_validation\n  File \"/home/pfoley1/anaconda3/envs/py3.8/lib/python3.8/site-packages/openfl/experimental/interface/fl_spec.py\", line 310, in next\n    self.execute_task(cln, f, parent_func, **kwargs)\n  File \"/home/pfoley1/anaconda3/envs/py3.8/lib/python3.8/site-packages/openfl/experimental/interface/fl_spec.py\", line 277, in execute_task\n    to_exec()\n  File \"/home/pfoley1/anaconda3/envs/py3.8/lib/python3.8/site-packages/openfl/experimental/placement/placement.py\", line 77, in wrapper\n    f(*args, **kwargs)\n  File \"/tmp/ipykernel_1686978/1826581246.py\", line 47, in train\n  File \"/home/pfoley1/anaconda3/envs/py3.8/lib/python3.8/site-packages/openfl/experimental/interface/fl_spec.py\", line 310, in next\n    self.execute_task(cln, f, parent_func, **kwargs)\n  File \"/home/pfoley1/anaconda3/envs/py3.8/lib/python3.8/site-packages/openfl/experimental/interface/fl_spec.py\", line 277, in execute_task\n    to_exec()\n  File \"/home/pfoley1/anaconda3/envs/py3.8/lib/python3.8/site-packages/openfl/experimental/placement/placement.py\", line 77, in wrapper\n    f(*args, **kwargs)\n  File \"/tmp/ipykernel_1686978/1826581246.py\", line 53, in local_model_validation\n  File \"/home/pfoley1/anaconda3/envs/py3.8/lib/python3.8/site-packages/openfl/experimental/interface/fl_spec.py\", line 310, in next\n    self.execute_task(cln, f, parent_func, **kwargs)\n  File \"/home/pfoley1/anaconda3/envs/py3.8/lib/python3.8/site-packages/openfl/experimental/interface/fl_spec.py\", line 277, in execute_task\n    to_exec()\n  File \"/home/pfoley1/anaconda3/envs/py3.8/lib/python3.8/site-packages/openfl/experimental/placement/placement.py\", line 48, in wrapper\n    f(*args, **kwargs)\nTypeError: join() missing 1 required positional argument: 'inputs'",
     "output_type": "error",
     "traceback": [
      "\u001b[0;31m---------------------------------------------------------------------------\u001b[0m",
      "\u001b[0;31mRayTaskError(TypeError)\u001b[0m                   Traceback (most recent call last)",
      "Input \u001b[0;32mIn [6]\u001b[0m, in \u001b[0;36m<cell line: 27>\u001b[0;34m()\u001b[0m\n\u001b[1;32m     29\u001b[0m flflow \u001b[38;5;241m=\u001b[39m FederatedFlow(model,optimizer,checkpoint\u001b[38;5;241m=\u001b[39m\u001b[38;5;28;01mTrue\u001b[39;00m)\n\u001b[1;32m     30\u001b[0m flflow\u001b[38;5;241m.\u001b[39mruntime \u001b[38;5;241m=\u001b[39m local_runtime\n\u001b[0;32m---> 31\u001b[0m \u001b[43mflflow\u001b[49m\u001b[38;5;241;43m.\u001b[39;49m\u001b[43mrun\u001b[49m\u001b[43m(\u001b[49m\u001b[43m)\u001b[49m\n\u001b[1;32m     32\u001b[0m model \u001b[38;5;241m=\u001b[39m flflow\u001b[38;5;241m.\u001b[39mmodel\n\u001b[1;32m     33\u001b[0m optimizer \u001b[38;5;241m=\u001b[39m flflow\u001b[38;5;241m.\u001b[39moptimizer\n",
      "File \u001b[0;32m~/anaconda3/envs/py3.8/lib/python3.8/site-packages/openfl/experimental/interface/fl_spec.py:78\u001b[0m, in \u001b[0;36mFLSpec.run\u001b[0;34m(self)\u001b[0m\n\u001b[1;32m     76\u001b[0m         \u001b[38;5;28;01mraise\u001b[39;00m SerializationException(\u001b[38;5;28mstr\u001b[39m(e)\u001b[38;5;241m+\u001b[39mmsg)\n\u001b[1;32m     77\u001b[0m     \u001b[38;5;28;01melse\u001b[39;00m:\n\u001b[0;32m---> 78\u001b[0m         \u001b[38;5;28;01mraise\u001b[39;00m e\n\u001b[1;32m     79\u001b[0m \u001b[38;5;28;01mfor\u001b[39;00m name, attr \u001b[38;5;129;01min\u001b[39;00m final_attributes:\n\u001b[1;32m     80\u001b[0m     \u001b[38;5;28msetattr\u001b[39m(\u001b[38;5;28mself\u001b[39m, name, attr)\n",
      "File \u001b[0;32m~/anaconda3/envs/py3.8/lib/python3.8/site-packages/openfl/experimental/interface/fl_spec.py:66\u001b[0m, in \u001b[0;36mFLSpec.run\u001b[0;34m(self)\u001b[0m\n\u001b[1;32m     64\u001b[0m     \u001b[38;5;28mprint\u001b[39m(\u001b[38;5;124mf\u001b[39m\u001b[38;5;124m'\u001b[39m\u001b[38;5;124mCreated flow \u001b[39m\u001b[38;5;132;01m{\u001b[39;00m\u001b[38;5;28mself\u001b[39m\u001b[38;5;241m.\u001b[39m\u001b[38;5;18m__class__\u001b[39m\u001b[38;5;241m.\u001b[39m\u001b[38;5;18m__name__\u001b[39m\u001b[38;5;132;01m}\u001b[39;00m\u001b[38;5;124m'\u001b[39m)\n\u001b[1;32m     65\u001b[0m \u001b[38;5;28;01mtry\u001b[39;00m:\n\u001b[0;32m---> 66\u001b[0m     \u001b[38;5;28;43mself\u001b[39;49m\u001b[38;5;241;43m.\u001b[39;49m\u001b[43mstart\u001b[49m\u001b[43m(\u001b[49m\u001b[43m)\u001b[49m\n\u001b[1;32m     67\u001b[0m \u001b[38;5;28;01mexcept\u001b[39;00m \u001b[38;5;167;01mException\u001b[39;00m \u001b[38;5;28;01mas\u001b[39;00m e:\n\u001b[1;32m     68\u001b[0m     \u001b[38;5;28;01mif\u001b[39;00m \u001b[38;5;124m\"\u001b[39m\u001b[38;5;124mcannot pickle\u001b[39m\u001b[38;5;124m\"\u001b[39m \u001b[38;5;129;01min\u001b[39;00m \u001b[38;5;28mstr\u001b[39m(e) \u001b[38;5;129;01mor\u001b[39;00m \u001b[38;5;124m\"\u001b[39m\u001b[38;5;124mFailed to unpickle\u001b[39m\u001b[38;5;124m\"\u001b[39m \u001b[38;5;129;01min\u001b[39;00m \u001b[38;5;28mstr\u001b[39m(e):\n",
      "File \u001b[0;32m~/anaconda3/envs/py3.8/lib/python3.8/site-packages/openfl/experimental/placement/placement.py:48\u001b[0m, in \u001b[0;36maggregator.<locals>.wrapper\u001b[0;34m(*args, **kwargs)\u001b[0m\n\u001b[1;32m     45\u001b[0m \u001b[38;5;28;01mwith\u001b[39;00m RedirectStdStreamContext() \u001b[38;5;28;01mas\u001b[39;00m context_stream:\n\u001b[1;32m     46\u001b[0m     \u001b[38;5;66;03m# context_stream capture stdout and stderr for the function f.__name__\u001b[39;00m\n\u001b[1;32m     47\u001b[0m     \u001b[38;5;28msetattr\u001b[39m(wrapper, \u001b[38;5;124m\"\u001b[39m\u001b[38;5;124m_stream_buffer\u001b[39m\u001b[38;5;124m\"\u001b[39m, context_stream)\n\u001b[0;32m---> 48\u001b[0m     \u001b[43mf\u001b[49m\u001b[43m(\u001b[49m\u001b[38;5;241;43m*\u001b[39;49m\u001b[43margs\u001b[49m\u001b[43m,\u001b[49m\u001b[43m \u001b[49m\u001b[38;5;241;43m*\u001b[39;49m\u001b[38;5;241;43m*\u001b[39;49m\u001b[43mkwargs\u001b[49m\u001b[43m)\u001b[49m\n",
      "Input \u001b[0;32mIn [5]\u001b[0m, in \u001b[0;36mFederatedFlow.start\u001b[0;34m(self)\u001b[0m\n\u001b[1;32m     16\u001b[0m \u001b[38;5;28mself\u001b[39m\u001b[38;5;241m.\u001b[39mcollaborators \u001b[38;5;241m=\u001b[39m \u001b[38;5;28mself\u001b[39m\u001b[38;5;241m.\u001b[39mruntime\u001b[38;5;241m.\u001b[39mcollaborators\n\u001b[1;32m     17\u001b[0m \u001b[38;5;28mself\u001b[39m\u001b[38;5;241m.\u001b[39mprivate \u001b[38;5;241m=\u001b[39m \u001b[38;5;241m10\u001b[39m\n\u001b[0;32m---> 18\u001b[0m \u001b[38;5;28;43mself\u001b[39;49m\u001b[38;5;241;43m.\u001b[39;49m\u001b[43mnext\u001b[49m\u001b[43m(\u001b[49m\u001b[38;5;28;43mself\u001b[39;49m\u001b[38;5;241;43m.\u001b[39;49m\u001b[43maggregated_model_validation\u001b[49m\u001b[43m,\u001b[49m\u001b[43mforeach\u001b[49m\u001b[38;5;241;43m=\u001b[39;49m\u001b[38;5;124;43m'\u001b[39;49m\u001b[38;5;124;43mcollaborators\u001b[39;49m\u001b[38;5;124;43m'\u001b[39;49m\u001b[43m,\u001b[49m\u001b[43mexclude\u001b[49m\u001b[38;5;241;43m=\u001b[39;49m\u001b[43m[\u001b[49m\u001b[38;5;124;43m'\u001b[39;49m\u001b[38;5;124;43mprivate\u001b[39;49m\u001b[38;5;124;43m'\u001b[39;49m\u001b[43m]\u001b[49m\u001b[43m)\u001b[49m\n",
      "File \u001b[0;32m~/anaconda3/envs/py3.8/lib/python3.8/site-packages/openfl/experimental/interface/fl_spec.py:310\u001b[0m, in \u001b[0;36mFLSpec.next\u001b[0;34m(self, f, **kwargs)\u001b[0m\n\u001b[1;32m    306\u001b[0m     \u001b[38;5;28mprint\u001b[39m(\u001b[38;5;124mf\u001b[39m\u001b[38;5;124m'\u001b[39m\u001b[38;5;124mforeach_methods = \u001b[39m\u001b[38;5;132;01m{\u001b[39;00m\u001b[38;5;28mself\u001b[39m\u001b[38;5;241m.\u001b[39m_foreach_methods\u001b[38;5;132;01m}\u001b[39;00m\u001b[38;5;124m'\u001b[39m)\n\u001b[1;32m    308\u001b[0m \u001b[38;5;28mself\u001b[39m\u001b[38;5;241m.\u001b[39mdisplay_transition_logs(f, parent_func)\n\u001b[0;32m--> 310\u001b[0m \u001b[38;5;28;43mself\u001b[39;49m\u001b[38;5;241;43m.\u001b[39;49m\u001b[43mexecute_task\u001b[49m\u001b[43m(\u001b[49m\u001b[43mcln\u001b[49m\u001b[43m,\u001b[49m\u001b[43m \u001b[49m\u001b[43mf\u001b[49m\u001b[43m,\u001b[49m\u001b[43m \u001b[49m\u001b[43mparent_func\u001b[49m\u001b[43m,\u001b[49m\u001b[43m \u001b[49m\u001b[38;5;241;43m*\u001b[39;49m\u001b[38;5;241;43m*\u001b[39;49m\u001b[43mkwargs\u001b[49m\u001b[43m)\u001b[49m\n",
      "File \u001b[0;32m~/anaconda3/envs/py3.8/lib/python3.8/site-packages/openfl/experimental/interface/fl_spec.py:261\u001b[0m, in \u001b[0;36mFLSpec.execute_task\u001b[0;34m(self, cln, f, parent_func, **kwargs)\u001b[0m\n\u001b[1;32m    258\u001b[0m         to_exec()\n\u001b[1;32m    259\u001b[0m \u001b[38;5;28;01mif\u001b[39;00m \u001b[38;5;28mself\u001b[39m\u001b[38;5;241m.\u001b[39m_runtime\u001b[38;5;241m.\u001b[39mbackend \u001b[38;5;241m==\u001b[39m \u001b[38;5;124m\"\u001b[39m\u001b[38;5;124mray\u001b[39m\u001b[38;5;124m\"\u001b[39m:\n\u001b[1;32m    260\u001b[0m     FLSpec\u001b[38;5;241m.\u001b[39m_clones\u001b[38;5;241m.\u001b[39mupdate({col: obj \u001b[38;5;28;01mfor\u001b[39;00m col,obj \u001b[38;5;129;01min\u001b[39;00m \\\n\u001b[0;32m--> 261\u001b[0m         \u001b[38;5;28mzip\u001b[39m(selected_collaborators, \u001b[43mray\u001b[49m\u001b[38;5;241;43m.\u001b[39;49m\u001b[43mget\u001b[49m\u001b[43m(\u001b[49m\u001b[43mremote_functions\u001b[49m\u001b[43m)\u001b[49m)})\n\u001b[1;32m    262\u001b[0m \u001b[38;5;28;01mfor\u001b[39;00m col \u001b[38;5;129;01min\u001b[39;00m selected_collaborators: \n\u001b[1;32m    263\u001b[0m     clone \u001b[38;5;241m=\u001b[39m FLSpec\u001b[38;5;241m.\u001b[39m_clones[col]\n",
      "File \u001b[0;32m~/anaconda3/envs/py3.8/lib/python3.8/site-packages/ray/_private/client_mode_hook.py:105\u001b[0m, in \u001b[0;36mclient_mode_hook.<locals>.wrapper\u001b[0;34m(*args, **kwargs)\u001b[0m\n\u001b[1;32m    103\u001b[0m     \u001b[38;5;28;01mif\u001b[39;00m func\u001b[38;5;241m.\u001b[39m\u001b[38;5;18m__name__\u001b[39m \u001b[38;5;241m!=\u001b[39m \u001b[38;5;124m\"\u001b[39m\u001b[38;5;124minit\u001b[39m\u001b[38;5;124m\"\u001b[39m \u001b[38;5;129;01mor\u001b[39;00m is_client_mode_enabled_by_default:\n\u001b[1;32m    104\u001b[0m         \u001b[38;5;28;01mreturn\u001b[39;00m \u001b[38;5;28mgetattr\u001b[39m(ray, func\u001b[38;5;241m.\u001b[39m\u001b[38;5;18m__name__\u001b[39m)(\u001b[38;5;241m*\u001b[39margs, \u001b[38;5;241m*\u001b[39m\u001b[38;5;241m*\u001b[39mkwargs)\n\u001b[0;32m--> 105\u001b[0m \u001b[38;5;28;01mreturn\u001b[39;00m \u001b[43mfunc\u001b[49m\u001b[43m(\u001b[49m\u001b[38;5;241;43m*\u001b[39;49m\u001b[43margs\u001b[49m\u001b[43m,\u001b[49m\u001b[43m \u001b[49m\u001b[38;5;241;43m*\u001b[39;49m\u001b[38;5;241;43m*\u001b[39;49m\u001b[43mkwargs\u001b[49m\u001b[43m)\u001b[49m\n",
      "File \u001b[0;32m~/anaconda3/envs/py3.8/lib/python3.8/site-packages/ray/_private/worker.py:2275\u001b[0m, in \u001b[0;36mget\u001b[0;34m(object_refs, timeout)\u001b[0m\n\u001b[1;32m   2273\u001b[0m     worker\u001b[38;5;241m.\u001b[39mcore_worker\u001b[38;5;241m.\u001b[39mdump_object_store_memory_usage()\n\u001b[1;32m   2274\u001b[0m \u001b[38;5;28;01mif\u001b[39;00m \u001b[38;5;28misinstance\u001b[39m(value, RayTaskError):\n\u001b[0;32m-> 2275\u001b[0m     \u001b[38;5;28;01mraise\u001b[39;00m value\u001b[38;5;241m.\u001b[39mas_instanceof_cause()\n\u001b[1;32m   2276\u001b[0m \u001b[38;5;28;01melse\u001b[39;00m:\n\u001b[1;32m   2277\u001b[0m     \u001b[38;5;28;01mraise\u001b[39;00m value\n",
      "\u001b[0;31mRayTaskError(TypeError)\u001b[0m: \u001b[36mray::wrapper()\u001b[39m (pid=1687134, ip=10.4.0.4)\n  File \"/home/pfoley1/anaconda3/envs/py3.8/lib/python3.8/site-packages/openfl/experimental/placement/placement.py\", line 18, in wrapper\n    f()\n  File \"/home/pfoley1/anaconda3/envs/py3.8/lib/python3.8/site-packages/openfl/experimental/placement/placement.py\", line 77, in wrapper\n    f(*args, **kwargs)\n  File \"/tmp/ipykernel_1686978/1826581246.py\", line 25, in aggregated_model_validation\n  File \"/home/pfoley1/anaconda3/envs/py3.8/lib/python3.8/site-packages/openfl/experimental/interface/fl_spec.py\", line 310, in next\n    self.execute_task(cln, f, parent_func, **kwargs)\n  File \"/home/pfoley1/anaconda3/envs/py3.8/lib/python3.8/site-packages/openfl/experimental/interface/fl_spec.py\", line 277, in execute_task\n    to_exec()\n  File \"/home/pfoley1/anaconda3/envs/py3.8/lib/python3.8/site-packages/openfl/experimental/placement/placement.py\", line 77, in wrapper\n    f(*args, **kwargs)\n  File \"/tmp/ipykernel_1686978/1826581246.py\", line 47, in train\n  File \"/home/pfoley1/anaconda3/envs/py3.8/lib/python3.8/site-packages/openfl/experimental/interface/fl_spec.py\", line 310, in next\n    self.execute_task(cln, f, parent_func, **kwargs)\n  File \"/home/pfoley1/anaconda3/envs/py3.8/lib/python3.8/site-packages/openfl/experimental/interface/fl_spec.py\", line 277, in execute_task\n    to_exec()\n  File \"/home/pfoley1/anaconda3/envs/py3.8/lib/python3.8/site-packages/openfl/experimental/placement/placement.py\", line 77, in wrapper\n    f(*args, **kwargs)\n  File \"/tmp/ipykernel_1686978/1826581246.py\", line 53, in local_model_validation\n  File \"/home/pfoley1/anaconda3/envs/py3.8/lib/python3.8/site-packages/openfl/experimental/interface/fl_spec.py\", line 310, in next\n    self.execute_task(cln, f, parent_func, **kwargs)\n  File \"/home/pfoley1/anaconda3/envs/py3.8/lib/python3.8/site-packages/openfl/experimental/interface/fl_spec.py\", line 277, in execute_task\n    to_exec()\n  File \"/home/pfoley1/anaconda3/envs/py3.8/lib/python3.8/site-packages/openfl/experimental/placement/placement.py\", line 48, in wrapper\n    f(*args, **kwargs)\nTypeError: join() missing 1 required positional argument: 'inputs'"
     ]
    },
    {
     "name": "stdout",
     "output_type": "stream",
     "text": [
      "\u001b[2m\u001b[36m(wrapper pid=1687137)\u001b[0m Saved data artifacts for train\n",
      "\u001b[2m\u001b[36m(wrapper pid=1687137)\u001b[0m No transition point detected!\n",
      "\u001b[2m\u001b[36m(wrapper pid=1687137)\u001b[0m foreach_methods = ['aggregated_model_validation']\n",
      "\u001b[2m\u001b[36m(wrapper pid=1687137)\u001b[0m \n",
      "\u001b[2m\u001b[36m(wrapper pid=1687137)\u001b[0m Calling local_model_validation\n",
      "\u001b[2m\u001b[36m(wrapper pid=1687143)\u001b[0m \n",
      "\u001b[2m\u001b[36m(wrapper pid=1687143)\u001b[0m Test set: Avg. loss: 0.6056, Accuracy: 2104/2500 (84%)\n",
      "\u001b[2m\u001b[36m(wrapper pid=1687143)\u001b[0m \n",
      "\u001b[2m\u001b[36m(wrapper pid=1687143)\u001b[0m Doing local model validation for collaborator Seattle: 0.8416000008583069\n",
      "\u001b[2m\u001b[36m(wrapper pid=1687143)\u001b[0m Saving data artifacts for local_model_validation\n"
     ]
    },
    {
     "name": "stderr",
     "output_type": "stream",
     "text": [
      "\u001b[2m\u001b[36m(wrapper pid=1687137)\u001b[0m /home/pfoley1/anaconda3/envs/py3.8/lib/python3.8/site-packages/torch/nn/_reduction.py:42: UserWarning: size_average and reduce args will be deprecated, please use reduction='sum' instead.\n",
      "\u001b[2m\u001b[36m(wrapper pid=1687137)\u001b[0m   warnings.warn(warning.format(ret))\n"
     ]
    },
    {
     "name": "stdout",
     "output_type": "stream",
     "text": [
      "\u001b[2m\u001b[36m(wrapper pid=1687135)\u001b[0m Train Epoch: 1 [14720/15000 (98%)]\tLoss: 1.042855\n",
      "\u001b[2m\u001b[36m(wrapper pid=1687135)\u001b[0m Saving data artifacts for train\n",
      "\u001b[2m\u001b[36m(wrapper pid=1687143)\u001b[0m Saved data artifacts for local_model_validation\n",
      "\u001b[2m\u001b[36m(wrapper pid=1687143)\u001b[0m No transition point detected!\n",
      "\u001b[2m\u001b[36m(wrapper pid=1687143)\u001b[0m foreach_methods = ['aggregated_model_validation']\n",
      "\u001b[2m\u001b[36m(wrapper pid=1687143)\u001b[0m Sending state from collaborator to aggregator\n",
      "\u001b[2m\u001b[36m(wrapper pid=1687143)\u001b[0m \n",
      "\u001b[2m\u001b[36m(wrapper pid=1687143)\u001b[0m Calling join\n",
      "\u001b[2m\u001b[36m(wrapper pid=1687135)\u001b[0m Saved data artifacts for train\n",
      "\u001b[2m\u001b[36m(wrapper pid=1687135)\u001b[0m No transition point detected!\n",
      "\u001b[2m\u001b[36m(wrapper pid=1687135)\u001b[0m foreach_methods = ['aggregated_model_validation']\n",
      "\u001b[2m\u001b[36m(wrapper pid=1687135)\u001b[0m \n",
      "\u001b[2m\u001b[36m(wrapper pid=1687135)\u001b[0m Calling local_model_validation\n"
     ]
    },
    {
     "name": "stderr",
     "output_type": "stream",
     "text": [
      "\u001b[2m\u001b[36m(wrapper pid=1687135)\u001b[0m /home/pfoley1/anaconda3/envs/py3.8/lib/python3.8/site-packages/torch/nn/_reduction.py:42: UserWarning: size_average and reduce args will be deprecated, please use reduction='sum' instead.\n",
      "\u001b[2m\u001b[36m(wrapper pid=1687135)\u001b[0m   warnings.warn(warning.format(ret))\n"
     ]
    },
    {
     "name": "stdout",
     "output_type": "stream",
     "text": [
      "\u001b[2m\u001b[36m(wrapper pid=1687137)\u001b[0m \n",
      "\u001b[2m\u001b[36m(wrapper pid=1687137)\u001b[0m Test set: Avg. loss: 0.7255, Accuracy: 1983/2500 (79%)\n",
      "\u001b[2m\u001b[36m(wrapper pid=1687137)\u001b[0m \n",
      "\u001b[2m\u001b[36m(wrapper pid=1687137)\u001b[0m Doing local model validation for collaborator Chandler: 0.7932000160217285\n",
      "\u001b[2m\u001b[36m(wrapper pid=1687137)\u001b[0m Saving data artifacts for local_model_validation\n",
      "\u001b[2m\u001b[36m(wrapper pid=1687137)\u001b[0m Saved data artifacts for local_model_validation\n",
      "\u001b[2m\u001b[36m(wrapper pid=1687137)\u001b[0m No transition point detected!\n",
      "\u001b[2m\u001b[36m(wrapper pid=1687137)\u001b[0m foreach_methods = ['aggregated_model_validation']\n",
      "\u001b[2m\u001b[36m(wrapper pid=1687137)\u001b[0m Sending state from collaborator to aggregator\n",
      "\u001b[2m\u001b[36m(wrapper pid=1687137)\u001b[0m \n",
      "\u001b[2m\u001b[36m(wrapper pid=1687137)\u001b[0m Calling join\n",
      "\u001b[2m\u001b[36m(wrapper pid=1687135)\u001b[0m \n",
      "\u001b[2m\u001b[36m(wrapper pid=1687135)\u001b[0m Test set: Avg. loss: 0.6053, Accuracy: 2094/2500 (84%)\n",
      "\u001b[2m\u001b[36m(wrapper pid=1687135)\u001b[0m \n",
      "\u001b[2m\u001b[36m(wrapper pid=1687135)\u001b[0m Doing local model validation for collaborator Bangalore: 0.8375999927520752\n",
      "\u001b[2m\u001b[36m(wrapper pid=1687135)\u001b[0m Saving data artifacts for local_model_validation\n",
      "\u001b[2m\u001b[36m(wrapper pid=1687135)\u001b[0m Saved data artifacts for local_model_validation\n",
      "\u001b[2m\u001b[36m(wrapper pid=1687135)\u001b[0m No transition point detected!\n",
      "\u001b[2m\u001b[36m(wrapper pid=1687135)\u001b[0m foreach_methods = ['aggregated_model_validation']\n",
      "\u001b[2m\u001b[36m(wrapper pid=1687135)\u001b[0m Sending state from collaborator to aggregator\n",
      "\u001b[2m\u001b[36m(wrapper pid=1687135)\u001b[0m \n",
      "\u001b[2m\u001b[36m(wrapper pid=1687135)\u001b[0m Calling join\n"
     ]
    },
    {
     "name": "stderr",
     "output_type": "stream",
     "text": [
      "2022-11-29 23:28:20,503\tERROR worker.py:399 -- Unhandled error (suppress with 'RAY_IGNORE_UNHANDLED_ERRORS=1'): \u001b[36mray::wrapper()\u001b[39m (pid=1687137, ip=10.4.0.4)\n",
      "  File \"/home/pfoley1/anaconda3/envs/py3.8/lib/python3.8/site-packages/openfl/experimental/placement/placement.py\", line 18, in wrapper\n",
      "    f()\n",
      "  File \"/home/pfoley1/anaconda3/envs/py3.8/lib/python3.8/site-packages/openfl/experimental/placement/placement.py\", line 77, in wrapper\n",
      "    f(*args, **kwargs)\n",
      "  File \"/tmp/ipykernel_1686978/1826581246.py\", line 25, in aggregated_model_validation\n",
      "  File \"/home/pfoley1/anaconda3/envs/py3.8/lib/python3.8/site-packages/openfl/experimental/interface/fl_spec.py\", line 310, in next\n",
      "    self.execute_task(cln, f, parent_func, **kwargs)\n",
      "  File \"/home/pfoley1/anaconda3/envs/py3.8/lib/python3.8/site-packages/openfl/experimental/interface/fl_spec.py\", line 277, in execute_task\n",
      "    to_exec()\n",
      "  File \"/home/pfoley1/anaconda3/envs/py3.8/lib/python3.8/site-packages/openfl/experimental/placement/placement.py\", line 77, in wrapper\n",
      "    f(*args, **kwargs)\n",
      "  File \"/tmp/ipykernel_1686978/1826581246.py\", line 47, in train\n",
      "  File \"/home/pfoley1/anaconda3/envs/py3.8/lib/python3.8/site-packages/openfl/experimental/interface/fl_spec.py\", line 310, in next\n",
      "    self.execute_task(cln, f, parent_func, **kwargs)\n",
      "  File \"/home/pfoley1/anaconda3/envs/py3.8/lib/python3.8/site-packages/openfl/experimental/interface/fl_spec.py\", line 277, in execute_task\n",
      "    to_exec()\n",
      "  File \"/home/pfoley1/anaconda3/envs/py3.8/lib/python3.8/site-packages/openfl/experimental/placement/placement.py\", line 77, in wrapper\n",
      "    f(*args, **kwargs)\n",
      "  File \"/tmp/ipykernel_1686978/1826581246.py\", line 53, in local_model_validation\n",
      "  File \"/home/pfoley1/anaconda3/envs/py3.8/lib/python3.8/site-packages/openfl/experimental/interface/fl_spec.py\", line 310, in next\n",
      "    self.execute_task(cln, f, parent_func, **kwargs)\n",
      "  File \"/home/pfoley1/anaconda3/envs/py3.8/lib/python3.8/site-packages/openfl/experimental/interface/fl_spec.py\", line 277, in execute_task\n",
      "    to_exec()\n",
      "  File \"/home/pfoley1/anaconda3/envs/py3.8/lib/python3.8/site-packages/openfl/experimental/placement/placement.py\", line 48, in wrapper\n",
      "    f(*args, **kwargs)\n",
      "TypeError: join() missing 1 required positional argument: 'inputs'\n",
      "2022-11-29 23:28:20,504\tERROR worker.py:399 -- Unhandled error (suppress with 'RAY_IGNORE_UNHANDLED_ERRORS=1'): \u001b[36mray::wrapper()\u001b[39m (pid=1687143, ip=10.4.0.4)\n",
      "  File \"/home/pfoley1/anaconda3/envs/py3.8/lib/python3.8/site-packages/openfl/experimental/placement/placement.py\", line 18, in wrapper\n",
      "    f()\n",
      "  File \"/home/pfoley1/anaconda3/envs/py3.8/lib/python3.8/site-packages/openfl/experimental/placement/placement.py\", line 77, in wrapper\n",
      "    f(*args, **kwargs)\n",
      "  File \"/tmp/ipykernel_1686978/1826581246.py\", line 25, in aggregated_model_validation\n",
      "  File \"/home/pfoley1/anaconda3/envs/py3.8/lib/python3.8/site-packages/openfl/experimental/interface/fl_spec.py\", line 310, in next\n",
      "    self.execute_task(cln, f, parent_func, **kwargs)\n",
      "  File \"/home/pfoley1/anaconda3/envs/py3.8/lib/python3.8/site-packages/openfl/experimental/interface/fl_spec.py\", line 277, in execute_task\n",
      "    to_exec()\n",
      "  File \"/home/pfoley1/anaconda3/envs/py3.8/lib/python3.8/site-packages/openfl/experimental/placement/placement.py\", line 77, in wrapper\n",
      "    f(*args, **kwargs)\n",
      "  File \"/tmp/ipykernel_1686978/1826581246.py\", line 47, in train\n",
      "  File \"/home/pfoley1/anaconda3/envs/py3.8/lib/python3.8/site-packages/openfl/experimental/interface/fl_spec.py\", line 310, in next\n",
      "    self.execute_task(cln, f, parent_func, **kwargs)\n",
      "  File \"/home/pfoley1/anaconda3/envs/py3.8/lib/python3.8/site-packages/openfl/experimental/interface/fl_spec.py\", line 277, in execute_task\n",
      "    to_exec()\n",
      "  File \"/home/pfoley1/anaconda3/envs/py3.8/lib/python3.8/site-packages/openfl/experimental/placement/placement.py\", line 77, in wrapper\n",
      "    f(*args, **kwargs)\n",
      "  File \"/tmp/ipykernel_1686978/1826581246.py\", line 53, in local_model_validation\n",
      "  File \"/home/pfoley1/anaconda3/envs/py3.8/lib/python3.8/site-packages/openfl/experimental/interface/fl_spec.py\", line 310, in next\n",
      "    self.execute_task(cln, f, parent_func, **kwargs)\n",
      "  File \"/home/pfoley1/anaconda3/envs/py3.8/lib/python3.8/site-packages/openfl/experimental/interface/fl_spec.py\", line 277, in execute_task\n",
      "    to_exec()\n",
      "  File \"/home/pfoley1/anaconda3/envs/py3.8/lib/python3.8/site-packages/openfl/experimental/placement/placement.py\", line 48, in wrapper\n",
      "    f(*args, **kwargs)\n",
      "TypeError: join() missing 1 required positional argument: 'inputs'\n",
      "2022-11-29 23:28:21,503\tERROR worker.py:399 -- Unhandled error (suppress with 'RAY_IGNORE_UNHANDLED_ERRORS=1'): \u001b[36mray::wrapper()\u001b[39m (pid=1687135, ip=10.4.0.4)\n",
      "  File \"/home/pfoley1/anaconda3/envs/py3.8/lib/python3.8/site-packages/openfl/experimental/placement/placement.py\", line 18, in wrapper\n",
      "    f()\n",
      "  File \"/home/pfoley1/anaconda3/envs/py3.8/lib/python3.8/site-packages/openfl/experimental/placement/placement.py\", line 77, in wrapper\n",
      "    f(*args, **kwargs)\n",
      "  File \"/tmp/ipykernel_1686978/1826581246.py\", line 25, in aggregated_model_validation\n",
      "  File \"/home/pfoley1/anaconda3/envs/py3.8/lib/python3.8/site-packages/openfl/experimental/interface/fl_spec.py\", line 310, in next\n",
      "    self.execute_task(cln, f, parent_func, **kwargs)\n",
      "  File \"/home/pfoley1/anaconda3/envs/py3.8/lib/python3.8/site-packages/openfl/experimental/interface/fl_spec.py\", line 277, in execute_task\n",
      "    to_exec()\n",
      "  File \"/home/pfoley1/anaconda3/envs/py3.8/lib/python3.8/site-packages/openfl/experimental/placement/placement.py\", line 77, in wrapper\n",
      "    f(*args, **kwargs)\n",
      "  File \"/tmp/ipykernel_1686978/1826581246.py\", line 47, in train\n",
      "  File \"/home/pfoley1/anaconda3/envs/py3.8/lib/python3.8/site-packages/openfl/experimental/interface/fl_spec.py\", line 310, in next\n",
      "    self.execute_task(cln, f, parent_func, **kwargs)\n",
      "  File \"/home/pfoley1/anaconda3/envs/py3.8/lib/python3.8/site-packages/openfl/experimental/interface/fl_spec.py\", line 277, in execute_task\n",
      "    to_exec()\n",
      "  File \"/home/pfoley1/anaconda3/envs/py3.8/lib/python3.8/site-packages/openfl/experimental/placement/placement.py\", line 77, in wrapper\n",
      "    f(*args, **kwargs)\n",
      "  File \"/tmp/ipykernel_1686978/1826581246.py\", line 53, in local_model_validation\n",
      "  File \"/home/pfoley1/anaconda3/envs/py3.8/lib/python3.8/site-packages/openfl/experimental/interface/fl_spec.py\", line 310, in next\n",
      "    self.execute_task(cln, f, parent_func, **kwargs)\n",
      "  File \"/home/pfoley1/anaconda3/envs/py3.8/lib/python3.8/site-packages/openfl/experimental/interface/fl_spec.py\", line 277, in execute_task\n",
      "    to_exec()\n",
      "  File \"/home/pfoley1/anaconda3/envs/py3.8/lib/python3.8/site-packages/openfl/experimental/placement/placement.py\", line 48, in wrapper\n",
      "    f(*args, **kwargs)\n",
      "TypeError: join() missing 1 required positional argument: 'inputs'\n"
     ]
    }
   ],
   "source": [
    "# Setup participants\n",
    "aggregator = Aggregator()\n",
    "aggregator.private_attributes = {}\n",
    "\n",
    "# Setup collaborators with private attributes\n",
    "collaborator_names = ['Portland', 'Seattle', 'Chandler','Bangalore']\n",
    "collaborators = [Collaborator(name=name) for name in collaborator_names]\n",
    "for idx, collaborator in enumerate(collaborators):\n",
    "    local_train = deepcopy(mnist_train)\n",
    "    local_test = deepcopy(mnist_test)\n",
    "    local_train.data = mnist_train.data[idx::len(collaborators)]\n",
    "    local_train.targets = mnist_train.targets[idx::len(collaborators)]\n",
    "    local_test.data = mnist_test.data[idx::len(collaborators)]\n",
    "    local_test.targets = mnist_test.targets[idx::len(collaborators)]\n",
    "    collaborator.private_attributes = {\n",
    "            'train_loader': torch.utils.data.DataLoader(local_train,batch_size=batch_size_train, shuffle=True),\n",
    "            'test_loader': torch.utils.data.DataLoader(local_test,batch_size=batch_size_train, shuffle=True)\n",
    "    }\n",
    "\n",
    "local_runtime = LocalRuntime(aggregator=aggregator, collaborators=collaborators)\n",
    "print(f'Local runtime collaborators = {local_runtime._collaborators}')\n",
    "\n",
    "model = None\n",
    "best_model = None\n",
    "optimizer = None\n",
    "top_model_accuracy = 0\n",
    "for i in range(2):\n",
    "    print(f'Starting round {i}...')\n",
    "    flflow = FederatedFlow(model,optimizer,checkpoint=True)\n",
    "    flflow.runtime = local_runtime\n",
    "    flflow.run()\n",
    "    model = flflow.model\n",
    "    optimizer = flflow.optimizer\n",
    "    aggregated_model_accuracy = flflow.aggregated_model_accuracy\n",
    "    if aggregated_model_accuracy > top_model_accuracy:\n",
    "        print(f'Accuracy improved to {aggregated_model_accuracy} for round {i}')\n",
    "        top_model_accuracy = aggregated_model_accuracy"
   ]
  },
  {
   "cell_type": "code",
   "execution_count": null,
   "id": "verified-favor",
   "metadata": {},
   "outputs": [],
   "source": [
    "run_id = flflow._run_id"
   ]
  },
  {
   "cell_type": "code",
   "execution_count": null,
   "id": "composed-burst",
   "metadata": {},
   "outputs": [],
   "source": [
    "import metaflow"
   ]
  },
  {
   "cell_type": "code",
   "execution_count": null,
   "id": "statutory-prime",
   "metadata": {},
   "outputs": [],
   "source": [
    "from metaflow import Metaflow, Flow, Task, Step"
   ]
  },
  {
   "cell_type": "code",
   "execution_count": null,
   "id": "fifty-tamil",
   "metadata": {},
   "outputs": [],
   "source": [
    "m = Metaflow()\n",
    "list(m)"
   ]
  },
  {
   "cell_type": "code",
   "execution_count": null,
   "id": "grand-defendant",
   "metadata": {},
   "outputs": [],
   "source": [
    "f = Flow('FederatedFlow').latest_run"
   ]
  },
  {
   "cell_type": "code",
   "execution_count": null,
   "id": "incident-novelty",
   "metadata": {},
   "outputs": [],
   "source": [
    "f"
   ]
  },
  {
   "cell_type": "code",
   "execution_count": null,
   "id": "increasing-dressing",
   "metadata": {},
   "outputs": [],
   "source": [
    "list(f)"
   ]
  },
  {
   "cell_type": "code",
   "execution_count": null,
   "id": "olympic-latter",
   "metadata": {},
   "outputs": [],
   "source": [
    "s = Step(f'FederatedFlow/{run_id}/train')"
   ]
  },
  {
   "cell_type": "code",
   "execution_count": null,
   "id": "awful-posting",
   "metadata": {},
   "outputs": [],
   "source": [
    "s"
   ]
  },
  {
   "cell_type": "code",
   "execution_count": null,
   "id": "median-double",
   "metadata": {},
   "outputs": [],
   "source": [
    "list(s)"
   ]
  },
  {
   "cell_type": "code",
   "execution_count": null,
   "id": "adult-maldives",
   "metadata": {},
   "outputs": [],
   "source": [
    "t = Task(f'FederatedFlow/{run_id}/train/7')"
   ]
  },
  {
   "cell_type": "code",
   "execution_count": null,
   "id": "changed-hungarian",
   "metadata": {},
   "outputs": [],
   "source": [
    "t"
   ]
  },
  {
   "cell_type": "code",
   "execution_count": null,
   "id": "academic-hierarchy",
   "metadata": {},
   "outputs": [],
   "source": [
    "t.data"
   ]
  },
  {
   "cell_type": "code",
   "execution_count": null,
   "id": "thermal-torture",
   "metadata": {},
   "outputs": [],
   "source": [
    "t.data.input"
   ]
  },
  {
   "cell_type": "code",
   "execution_count": null,
   "id": "auburn-working",
   "metadata": {},
   "outputs": [],
   "source": []
  }
 ],
 "metadata": {
  "kernelspec": {
   "display_name": "py3.8",
   "language": "python",
   "name": "py3.8"
  },
  "language_info": {
   "codemirror_mode": {
    "name": "ipython",
    "version": 3
   },
   "file_extension": ".py",
   "mimetype": "text/x-python",
   "name": "python",
   "nbconvert_exporter": "python",
   "pygments_lexer": "ipython3",
   "version": "3.8.13"
  }
 },
 "nbformat": 4,
 "nbformat_minor": 5
}
